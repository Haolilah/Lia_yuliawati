{
  "nbformat": 4,
  "nbformat_minor": 0,
  "metadata": {
    "colab": {
      "provenance": []
    },
    "kernelspec": {
      "name": "python3",
      "display_name": "Python 3"
    },
    "language_info": {
      "name": "python"
    }
  },
  "cells": [
    {
      "cell_type": "code",
      "execution_count": null,
      "metadata": {
        "id": "3B-MZ5V9cijk"
      },
      "outputs": [],
      "source": [
        "# This Python 3 environment comes with many helpful analytics libraries installed\n",
        "# It is defined by the kaggle/python docker image: https://github.com/kaggle/docker-python\n",
        "# For example, here's several helpful packages to load in\n",
        "\n",
        "#Visualization\n",
        "import pandas as pd\n",
        "import numpy as np\n",
        "import seaborn as sns\n",
        "import matplotlib.pyplot as plt\n",
        "from matplotlib.colors import ListedColormap\n",
        "#Libraries for ML\n",
        "from sklearn.preprocessing import StandardScaler #Standardizasyon için\n",
        "from sklearn.model_selection import train_test_split, GridSearchCV #GridSearchCV: KNN ile ilgili en iyi parametreleri belirlemek\n",
        "from sklearn.metrics import accuracy_score ,confusion_matrix #Sonuç değerlendirme\n",
        "from sklearn.neighbors import KNeighborsClassifier,LocalOutlierFactor #Trainin algoritması ve NCA ve Outlier değerler için\n",
        "from sklearn.decomposition import PCA #PCA için\n",
        "\n",
        "import numpy as np # linear algebra\n",
        "import pandas as pd # data processing, CSV file I/O (e.g. pd.read_csv)\n",
        "import matplotlib.pyplot as plt\n",
        "import plotly.graph_objs as go\n",
        "import itertools\n",
        "plt.style.use('fivethirtyeight')\n",
        "import seaborn as sns\n",
        "# import warnings\n",
        "import warnings\n",
        "# filter warnings\n",
        "warnings.filterwarnings('ignore')\n",
        "# Input data files are available in the \"../input/\" directory.\n",
        "# For example, running this (by clicking run or pressing Shift+Enter) will list the files in the input directory\n",
        "\n",
        "\n",
        "# Any results you write to the current directory are saved as output."
      ]
    },
    {
      "cell_type": "markdown",
      "source": [
        "## Import Dataset"
      ],
      "metadata": {
        "id": "a7nbd9ediXwe"
      }
    },
    {
      "cell_type": "code",
      "source": [
        "#read data\n",
        "data = pd.read_csv(\"data.csv\")\n",
        "data.head()"
      ],
      "metadata": {
        "colab": {
          "base_uri": "https://localhost:8080/",
          "height": 206
        },
        "id": "lGt-NKSfc7nD",
        "outputId": "f01d1df6-ffb7-45ad-9174-daf9d0f6b13e"
      },
      "execution_count": null,
      "outputs": [
        {
          "output_type": "execute_result",
          "data": {
            "text/plain": [
              "   Unnamed: 0  horsepower    price\n",
              "0           0       111.0  13495.0\n",
              "1           1       111.0  16500.0\n",
              "2           2       154.0  16500.0\n",
              "3           3       102.0  13950.0\n",
              "4           4       115.0  17450.0"
            ],
            "text/html": [
              "\n",
              "  <div id=\"df-8a8c4e51-08cb-4160-b64b-b3891b7af2b2\">\n",
              "    <div class=\"colab-df-container\">\n",
              "      <div>\n",
              "<style scoped>\n",
              "    .dataframe tbody tr th:only-of-type {\n",
              "        vertical-align: middle;\n",
              "    }\n",
              "\n",
              "    .dataframe tbody tr th {\n",
              "        vertical-align: top;\n",
              "    }\n",
              "\n",
              "    .dataframe thead th {\n",
              "        text-align: right;\n",
              "    }\n",
              "</style>\n",
              "<table border=\"1\" class=\"dataframe\">\n",
              "  <thead>\n",
              "    <tr style=\"text-align: right;\">\n",
              "      <th></th>\n",
              "      <th>Unnamed: 0</th>\n",
              "      <th>horsepower</th>\n",
              "      <th>price</th>\n",
              "    </tr>\n",
              "  </thead>\n",
              "  <tbody>\n",
              "    <tr>\n",
              "      <th>0</th>\n",
              "      <td>0</td>\n",
              "      <td>111.0</td>\n",
              "      <td>13495.0</td>\n",
              "    </tr>\n",
              "    <tr>\n",
              "      <th>1</th>\n",
              "      <td>1</td>\n",
              "      <td>111.0</td>\n",
              "      <td>16500.0</td>\n",
              "    </tr>\n",
              "    <tr>\n",
              "      <th>2</th>\n",
              "      <td>2</td>\n",
              "      <td>154.0</td>\n",
              "      <td>16500.0</td>\n",
              "    </tr>\n",
              "    <tr>\n",
              "      <th>3</th>\n",
              "      <td>3</td>\n",
              "      <td>102.0</td>\n",
              "      <td>13950.0</td>\n",
              "    </tr>\n",
              "    <tr>\n",
              "      <th>4</th>\n",
              "      <td>4</td>\n",
              "      <td>115.0</td>\n",
              "      <td>17450.0</td>\n",
              "    </tr>\n",
              "  </tbody>\n",
              "</table>\n",
              "</div>\n",
              "      <button class=\"colab-df-convert\" onclick=\"convertToInteractive('df-8a8c4e51-08cb-4160-b64b-b3891b7af2b2')\"\n",
              "              title=\"Convert this dataframe to an interactive table.\"\n",
              "              style=\"display:none;\">\n",
              "        \n",
              "  <svg xmlns=\"http://www.w3.org/2000/svg\" height=\"24px\"viewBox=\"0 0 24 24\"\n",
              "       width=\"24px\">\n",
              "    <path d=\"M0 0h24v24H0V0z\" fill=\"none\"/>\n",
              "    <path d=\"M18.56 5.44l.94 2.06.94-2.06 2.06-.94-2.06-.94-.94-2.06-.94 2.06-2.06.94zm-11 1L8.5 8.5l.94-2.06 2.06-.94-2.06-.94L8.5 2.5l-.94 2.06-2.06.94zm10 10l.94 2.06.94-2.06 2.06-.94-2.06-.94-.94-2.06-.94 2.06-2.06.94z\"/><path d=\"M17.41 7.96l-1.37-1.37c-.4-.4-.92-.59-1.43-.59-.52 0-1.04.2-1.43.59L10.3 9.45l-7.72 7.72c-.78.78-.78 2.05 0 2.83L4 21.41c.39.39.9.59 1.41.59.51 0 1.02-.2 1.41-.59l7.78-7.78 2.81-2.81c.8-.78.8-2.07 0-2.86zM5.41 20L4 18.59l7.72-7.72 1.47 1.35L5.41 20z\"/>\n",
              "  </svg>\n",
              "      </button>\n",
              "      \n",
              "  <style>\n",
              "    .colab-df-container {\n",
              "      display:flex;\n",
              "      flex-wrap:wrap;\n",
              "      gap: 12px;\n",
              "    }\n",
              "\n",
              "    .colab-df-convert {\n",
              "      background-color: #E8F0FE;\n",
              "      border: none;\n",
              "      border-radius: 50%;\n",
              "      cursor: pointer;\n",
              "      display: none;\n",
              "      fill: #1967D2;\n",
              "      height: 32px;\n",
              "      padding: 0 0 0 0;\n",
              "      width: 32px;\n",
              "    }\n",
              "\n",
              "    .colab-df-convert:hover {\n",
              "      background-color: #E2EBFA;\n",
              "      box-shadow: 0px 1px 2px rgba(60, 64, 67, 0.3), 0px 1px 3px 1px rgba(60, 64, 67, 0.15);\n",
              "      fill: #174EA6;\n",
              "    }\n",
              "\n",
              "    [theme=dark] .colab-df-convert {\n",
              "      background-color: #3B4455;\n",
              "      fill: #D2E3FC;\n",
              "    }\n",
              "\n",
              "    [theme=dark] .colab-df-convert:hover {\n",
              "      background-color: #434B5C;\n",
              "      box-shadow: 0px 1px 3px 1px rgba(0, 0, 0, 0.15);\n",
              "      filter: drop-shadow(0px 1px 2px rgba(0, 0, 0, 0.3));\n",
              "      fill: #FFFFFF;\n",
              "    }\n",
              "  </style>\n",
              "\n",
              "      <script>\n",
              "        const buttonEl =\n",
              "          document.querySelector('#df-8a8c4e51-08cb-4160-b64b-b3891b7af2b2 button.colab-df-convert');\n",
              "        buttonEl.style.display =\n",
              "          google.colab.kernel.accessAllowed ? 'block' : 'none';\n",
              "\n",
              "        async function convertToInteractive(key) {\n",
              "          const element = document.querySelector('#df-8a8c4e51-08cb-4160-b64b-b3891b7af2b2');\n",
              "          const dataTable =\n",
              "            await google.colab.kernel.invokeFunction('convertToInteractive',\n",
              "                                                     [key], {});\n",
              "          if (!dataTable) return;\n",
              "\n",
              "          const docLinkHtml = 'Like what you see? Visit the ' +\n",
              "            '<a target=\"_blank\" href=https://colab.research.google.com/notebooks/data_table.ipynb>data table notebook</a>'\n",
              "            + ' to learn more about interactive tables.';\n",
              "          element.innerHTML = '';\n",
              "          dataTable['output_type'] = 'display_data';\n",
              "          await google.colab.output.renderOutput(dataTable, element);\n",
              "          const docLink = document.createElement('div');\n",
              "          docLink.innerHTML = docLinkHtml;\n",
              "          element.appendChild(docLink);\n",
              "        }\n",
              "      </script>\n",
              "    </div>\n",
              "  </div>\n",
              "  "
            ]
          },
          "metadata": {},
          "execution_count": 7
        }
      ]
    },
    {
      "cell_type": "code",
      "source": [
        "#Split Data as M&B\n",
        "p = data[data.Outcome == 1]\n",
        "n = data[data.Outcome == 0]"
      ],
      "metadata": {
        "id": "lfoyHCA6eIKQ"
      },
      "execution_count": null,
      "outputs": []
    },
    {
      "cell_type": "markdown",
      "source": [
        "### Visualisasi Perbandingan Label Outcome"
      ],
      "metadata": {
        "id": "DgsWtn1mifec"
      }
    },
    {
      "cell_type": "code",
      "source": [
        "sns.countplot(x='Outcome',data=data)\n",
        "plt.title(\"Count 0 & 1\")\n",
        "plt.show()"
      ],
      "metadata": {
        "id": "xVcbl1w3eP9c"
      },
      "execution_count": null,
      "outputs": []
    },
    {
      "cell_type": "markdown",
      "source": [
        "### Deskripsi Dataset"
      ],
      "metadata": {
        "id": "bIRrc_tJimNw"
      }
    },
    {
      "cell_type": "code",
      "source": [
        "print('Data Shape',data.shape)\n",
        "print(data.info())\n",
        "describe = data.describe()\n",
        "describe.T"
      ],
      "metadata": {
        "id": "FCnq8MP9eo41"
      },
      "execution_count": null,
      "outputs": []
    },
    {
      "cell_type": "markdown",
      "source": [
        "### Korelasi perbedaan fitur"
      ],
      "metadata": {
        "id": "gaMgS6lmirSw"
      }
    },
    {
      "cell_type": "code",
      "source": [
        "corr_data = data.corr()\n",
        "sns.clustermap(corr_data,annot= True,fmt = '.2f')\n",
        "plt.title('Correlation Between Features')\n",
        "plt.show();"
      ],
      "metadata": {
        "id": "SGoQA4VieqOA"
      },
      "execution_count": null,
      "outputs": []
    },
    {
      "cell_type": "code",
      "source": [
        "#Box p. öncesi bir melted işlemi gerekitor.\n",
        "data_melted = pd.melt(data,id_vars='Outcome',\n",
        "                      var_name='Features',\n",
        "                      value_name='Value')\n",
        "\n",
        "plt.figure()\n",
        "sns.boxplot(x='Features',y='Value',hue='Outcome',data=data_melted) #Featureslar target'a göre ayrıldı.\n",
        "plt.xticks(rotation=75) #Feature isimleri 90 derece dik görülecek.\n",
        "plt.show()"
      ],
      "metadata": {
        "id": "yp-hMw6ifBc9"
      },
      "execution_count": null,
      "outputs": []
    },
    {
      "cell_type": "markdown",
      "source": [],
      "metadata": {
        "id": "QZYbqwnYqbXq"
      }
    },
    {
      "cell_type": "code",
      "source": [
        "plt.scatter(p.Pregnancies,p.Glucose,color = \"brown\",label=\"Diabet Positive\",alpha=0.4)\n",
        "plt.scatter(n.Pregnancies,n.Glucose,color = \"Orange\",label=\"Diabet Negative\",alpha=0.2)\n",
        "plt.xlabel(\"Pregnancies\")\n",
        "plt.ylabel(\"Glucose\")\n",
        "plt.legend()\n",
        "plt.show()\n",
        "\n",
        "#We appear that it is clear segregation."
      ],
      "metadata": {
        "id": "6dyFrEchffcR"
      },
      "execution_count": null,
      "outputs": []
    },
    {
      "cell_type": "code",
      "source": [
        "#Visualization, Scatter Plot\n",
        "\n",
        "plt.scatter(p.Age,p.Pregnancies,color = \"lime\",label=\"Diabet Positive\",alpha=0.4)\n",
        "plt.scatter(n.Age,n.Pregnancies,color = \"black\",label=\"Diabet Negative\",alpha=0.2)\n",
        "plt.xlabel(\"Age\")\n",
        "plt.ylabel(\"Pregnancies\")\n",
        "plt.legend()\n",
        "plt.show()\n",
        "\n",
        "#We appear that it is clear segregation."
      ],
      "metadata": {
        "id": "yud1PwfHfos9"
      },
      "execution_count": null,
      "outputs": []
    },
    {
      "cell_type": "code",
      "source": [
        "#Visualization, Scatter Plot\n",
        "\n",
        "plt.scatter(p.Glucose,p.Insulin,color = \"lime\",label=\"Diabet Positive\",alpha=0.4)\n",
        "plt.scatter(n.Glucose,n.Insulin,color = \"black\",label=\"Diabet Negative\",alpha=0.1)\n",
        "plt.xlabel(\"Glucose\")\n",
        "plt.ylabel(\"Insulin\")\n",
        "plt.legend()\n",
        "plt.show()\n",
        "\n",
        "#We appear that it is clear segregation."
      ],
      "metadata": {
        "id": "SvFEPMBCfxLu"
      },
      "execution_count": null,
      "outputs": []
    },
    {
      "cell_type": "markdown",
      "source": [
        "## Data Preprocesing"
      ],
      "metadata": {
        "id": "lm-y8uC1i59d"
      }
    },
    {
      "cell_type": "markdown",
      "source": [
        "cek data outlier"
      ],
      "metadata": {
        "id": "wTgGuG69jFmB"
      }
    },
    {
      "cell_type": "code",
      "source": [
        "x = data.drop(['Outcome'],axis=1)\n",
        "y = data.Outcome\n",
        "columns = x.columns.tolist() # Featureların isimlerini bir listede topladık.\n",
        "\n",
        "clf = LocalOutlierFactor() #KNN değeri gerekiyor. Tanımlı değeri 20 ve bizde 20 kullanacağız. O nedenle birşey yazmayacağız.\n",
        "y_pred = clf.fit_predict(x) #LOF uygulayıo negetif outlier f. alıyoruz.\n",
        "\n",
        "x_score = clf.negative_outlier_factor_\n",
        "outlier_score = pd.DataFrame()\n",
        "outlier_score['score'] = x_score\n",
        "\n",
        "threshold_outliers = -1.5\n",
        "filtre = outlier_score['score'] < threshold_outliers\n",
        "outlier_index = outlier_score[filtre].index.tolist() #outlier değerlerine threshold uygulanmış olanları bir listeye attık\n",
        "\n",
        "plt.figure()\n",
        "plt.scatter(x.iloc[outlier_index,0], x.iloc[outlier_index,1],color = 'blue',s=50,label='outliers')\n",
        "plt.scatter(x.iloc[:,0]\n",
        "            ,x.iloc[:,1],color='k',s=3,label='data_point') #s : boyut\n",
        "\n",
        "radius = (x_score.max() - x_score ) / (x_score.max() - x_score.min() ) #Değerleri normalize ederek biası önledik\n",
        "outlier_score['radius '] = radius\n",
        "\n",
        "plt.scatter(x.iloc[:,0], x.iloc[:,1], s=1000*radius, edgecolors='r',facecolor='none',label='Outlier skores')\n",
        "plt.legend()\n",
        "plt.show();"
      ],
      "metadata": {
        "id": "zf4IXJJpf6JK"
      },
      "execution_count": null,
      "outputs": []
    },
    {
      "cell_type": "markdown",
      "source": [
        "Menghapus data yang outlier"
      ],
      "metadata": {
        "id": "U6vgPQ7wjKek"
      }
    },
    {
      "cell_type": "code",
      "source": [
        "x = x.drop(outlier_index) #outliers remove\n",
        "y = y.drop(outlier_index).values #outliers remove"
      ],
      "metadata": {
        "id": "CrobadAggFja"
      },
      "execution_count": null,
      "outputs": []
    },
    {
      "cell_type": "markdown",
      "source": [
        "## Split Data menjadi data train dan data test"
      ],
      "metadata": {
        "id": "RBCIL6zpjQwT"
      }
    },
    {
      "cell_type": "code",
      "source": [
        "test_size = 0.2\n",
        "\n",
        "x_train, x_test, y_train, y_test = train_test_split(x,y,test_size=test_size,random_state=42)"
      ],
      "metadata": {
        "id": "u28njRN8gMT9"
      },
      "execution_count": null,
      "outputs": []
    },
    {
      "cell_type": "code",
      "source": [
        "scaler = StandardScaler()\n",
        "x_train = scaler.fit_transform(x_train) #scaler isimli bir değişkene Standartscaler metodunu atayıp sonra bu değişken aracılığıyla xtraindeki verileri standardize ettik\n",
        "\n",
        "x_test = scaler.transform(x_test)\n",
        "\n",
        "x_train_df = pd.DataFrame(x_train,columns=columns)\n",
        "x_train_df_describe = x_train_df.describe()\n",
        "x_train_df['target'] = y_train"
      ],
      "metadata": {
        "id": "QbpiBquhgVzf"
      },
      "execution_count": null,
      "outputs": []
    },
    {
      "cell_type": "markdown",
      "source": [
        "## Pemodelan menggunakan algoritma KNN"
      ],
      "metadata": {
        "id": "mki-MINwjXni"
      }
    },
    {
      "cell_type": "markdown",
      "source": [],
      "metadata": {
        "id": "FkyIASRUkAmu"
      }
    },
    {
      "cell_type": "code",
      "source": [
        "knn = KNeighborsClassifier(n_neighbors=2)\n",
        "knn.fit(x_train, y_train) #Calculation (In the supervise learning this section = training)\n",
        "y_predict = knn.predict(x_test) #Test Section\n",
        "cm = confusion_matrix(y_test, y_predict) #Plooting\n",
        "acc = accuracy_score(y_test, y_predict) #Accuracy Score\n",
        "score = knn.score(x_test, y_test) #acc ile burasının sonucu aynı çıkacak. Doğrulama amaçlı yapılıyor.\n",
        "\n",
        "print(\"Score:\",score)\n",
        "print(\"CM:\",cm)\n",
        "print(\"Basic KNN Acc:\",acc)"
      ],
      "metadata": {
        "id": "GMur9W5kgfNO"
      },
      "execution_count": null,
      "outputs": []
    },
    {
      "cell_type": "markdown",
      "source": [],
      "metadata": {
        "id": "BWn5-M8Yj8ru"
      }
    },
    {
      "cell_type": "markdown",
      "source": [],
      "metadata": {
        "id": "AclQ7kuZj82P"
      }
    },
    {
      "cell_type": "code",
      "source": [
        "def KNN_best_parameters(x_train,x_test,y_train,y_test):\n",
        "\n",
        "    k_range = list(range(1,51)) #En uygun k değeri buluma\n",
        "    weight_options = ['uniform','distance'] #En uygun weighti buluma\n",
        "    #manhattan_distance = 1\n",
        "    #euclidean_distance = 2\n",
        "    distance_options = [1,2] #En uygun distance type buluma\n",
        "    print()\n",
        "    param_grid = dict(n_neighbors=k_range,weights=weight_options,p=distance_options) #Aranacak parametreleri bir sözlükte topladık.\n",
        "\n",
        "    knn =KNeighborsClassifier() #Parametrelerin deneneceği knn oluşturuldu.\n",
        "    grid = GridSearchCV(knn,param_grid,cv=10,scoring='accuracy') #Parametrelerin aranması için method\n",
        "    grid.fit(x_train, y_train) #fitting ile best parm. elde edildi\n",
        "\n",
        "    print('Best training score: {} with parametres: {}'.format(grid.best_score_,grid.best_params_))\n",
        "    print()\n",
        "\n",
        "    knn = KNeighborsClassifier(**grid.best_params_) #Test setinde deneme işlemi için\n",
        "    knn.fit(x_train, y_train)\n",
        "\n",
        "    y_predict_test = knn.predict(x_test)\n",
        "    y_predict_train = knn.predict(x_train)\n",
        "\n",
        "    cm_test = confusion_matrix(y_test,y_predict_test)\n",
        "    cm_train = confusion_matrix(y_train,y_predict_train)\n",
        "\n",
        "    acc_test = accuracy_score(y_test,y_predict_test)\n",
        "    acc_train = accuracy_score(y_train,y_predict_train)\n",
        "\n",
        "    print('Test Score: {}, Train Score: {}'.format(acc_test,acc_train))\n",
        "    print()\n",
        "    print('CM Test:',cm_test)\n",
        "    print('CM Train:',cm_train)\n",
        "\n",
        "    return grid"
      ],
      "metadata": {
        "id": "QYHgDvXhgsTy"
      },
      "execution_count": null,
      "outputs": []
    },
    {
      "cell_type": "code",
      "source": [
        "grid = KNN_best_parameters(x_train,x_test,y_train,y_test)"
      ],
      "metadata": {
        "id": "HqX2JabGgtKu"
      },
      "execution_count": null,
      "outputs": []
    },
    {
      "cell_type": "code",
      "source": [
        "KNNscore = grid.best_score_"
      ],
      "metadata": {
        "id": "ipk2iya8gyAC"
      },
      "execution_count": null,
      "outputs": []
    },
    {
      "cell_type": "code",
      "source": [
        "#%% PCA\n",
        "\n",
        "scale = StandardScaler()\n",
        "x_scaled = scaler.fit_transform(x) #x verisi bölünmeden tam bir şekilde PCA için scale edildi.\n",
        "\n",
        "pca = PCA(n_components=2) #2 componentli bir PCA oluşturduk.\n",
        "pca.fit(x_scaled)\n",
        "x_reduce_pca = pca.transform(x_scaled) #2feature'a yani boyuta düşürülmüş x\n",
        "pca_data =pd.DataFrame(x_reduce_pca,columns=['p1','p2']) #reduce datadan incelemek için bir dataframe oluşturuldu\n",
        "pca_data['target'] = y #buna target eklendi. Görselleştirmek için gerekli.\n",
        "\n",
        "sns.scatterplot(x='p1',y='p2',hue='target',data=pca_data) # targeta göre renklendirilmiş grafik\n",
        "plt.title('PCA: P1 Vs P2')"
      ],
      "metadata": {
        "id": "U6EAxd7gg5eg"
      },
      "execution_count": null,
      "outputs": []
    },
    {
      "cell_type": "code",
      "source": [
        "x_train_pca, x_test_pca, y_train_pca, y_test_pca = train_test_split(x_reduce_pca,y,test_size=test_size,random_state=42)\n",
        "\n",
        "grid_pca = KNN_best_parameters(x_train_pca, x_test_pca, y_train_pca, y_test_pca)\n",
        "#en iyi parametreleri elde ettiğimiz metodu PCA için çalıştırıyorum."
      ],
      "metadata": {
        "id": "r2gnYOuCg_S2"
      },
      "execution_count": null,
      "outputs": []
    },
    {
      "cell_type": "code",
      "source": [
        "cmap_light = ListedColormap(['orange',  'cornflowerblue'])\n",
        "cmap_bold = ListedColormap(['darkorange', 'darkblue'])\n",
        "\n",
        "h = .05 # step size in the mesh\n",
        "X = x_reduce_pca\n",
        "x_min, x_max = X[:, 0].min() - 1, X[:, 0].max() + 1\n",
        "y_min, y_max = X[:, 1].min() - 1, X[:, 1].max() + 1\n",
        "xx, yy = np.meshgrid(np.arange(x_min, x_max, h),\n",
        "                     np.arange(y_min, y_max, h))\n",
        "\n",
        "Z = grid_pca.predict(np.c_[xx.ravel(), yy.ravel()])\n",
        "\n",
        "# Put the result into a color plot\n",
        "Z = Z.reshape(xx.shape)\n",
        "plt.figure()\n",
        "plt.pcolormesh(xx, yy, Z, cmap=cmap_light)\n",
        "\n",
        "# Plot also the training points\n",
        "plt.scatter(X[:, 0], X[:, 1], c=y, cmap=cmap_bold,\n",
        "            edgecolor='k', s=20)\n",
        "plt.xlim(xx.min(), xx.max())\n",
        "plt.ylim(yy.min(), yy.max())\n",
        "plt.title(\"%i-Class classification (k = %i, weights = '%s')\"\n",
        "          % (len(np.unique(y)),grid_pca.best_estimator_.n_neighbors, grid_pca.best_estimator_.weights))"
      ],
      "metadata": {
        "id": "edO6GUHfhEVq"
      },
      "execution_count": null,
      "outputs": []
    },
    {
      "cell_type": "markdown",
      "source": [
        "## Hasil Evaluasi model dengan Confusion Matrix"
      ],
      "metadata": {
        "id": "5oz5C53ljjvj"
      }
    },
    {
      "cell_type": "code",
      "source": [
        "#Confusion Matrix\n",
        "\n",
        "yprediciton2= knn.predict(x_test)\n",
        "ytrue = y_test\n",
        "\n",
        "from sklearn.metrics import confusion_matrix\n",
        "CM = confusion_matrix(ytrue,yprediciton2)\n",
        "\n",
        "#CM visualization\n",
        "\n",
        "import seaborn as sns\n",
        "import matplotlib.pyplot as plt\n",
        "\n",
        "f, ax = plt.subplots(figsize=(5,5))\n",
        "sns.heatmap(CM,annot = True, linewidths=0.5,linecolor=\"red\",fmt=\".0f\",ax=ax)\n",
        "plt.xlabel(\"Prediction(Ypred)\")\n",
        "plt.ylabel(\"Ytrue\")\n",
        "plt.show()"
      ],
      "metadata": {
        "id": "f9GoZdMrhJ3v"
      },
      "execution_count": null,
      "outputs": []
    },
    {
      "cell_type": "code",
      "source": [],
      "metadata": {
        "id": "Jc9D2CoYhQvZ"
      },
      "execution_count": null,
      "outputs": []
    }
  ]
}